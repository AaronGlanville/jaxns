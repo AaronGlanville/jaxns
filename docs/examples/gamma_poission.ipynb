{
 "cells": [
  {
   "cell_type": "markdown",
   "metadata": {},
   "source": [
    "# Poisson likelihood and Gamma prior\n",
    "\n",
    "This is a simple model where our discrete data, $y$, is modelled as a Poisson RV with Gamma prior, which is a conjugate prior model.\n",
    "\n",
    "$L(x) = p(y | x) = \\mathcal{P}[y \\mid x]$\n",
    "\n",
    "and\n",
    "\n",
    "$p(x) = \\Gamma[x \\mid k, \\theta]$.\n",
    "\n",
    "The analytic evidence for this model is,\n",
    "\n",
    "$Z = p(y) = \\int_\\mathcal{X} L(x) p(x) \\,\\mathrm{d} x =  \\mathcal{P}[y \\mid 1] \\frac{\\Gamma[1 \\mid k, \\theta]}{\\Gamma[1 \\mid k', \\theta']}$\n",
    "\n",
    "The posterior is also a Gamma distribution,\n",
    "\n",
    "$p(x \\mid y) = \\Gamma[x \\mid k', \\theta']$\n",
    "\n",
    "where\n",
    "\n",
    "$k' = k + \\sum_i y_i$\n",
    "\n",
    "and\n",
    "\n",
    "$\\theta' = \\frac{\\theta}{(\\theta \\sum_i y_i + 1)}$"
   ]
  },
  {
   "cell_type": "code",
   "execution_count": 1,
   "metadata": {
    "execution": {
     "iopub.execute_input": "2023-12-11T12:03:43.796291Z",
     "iopub.status.busy": "2023-12-11T12:03:43.795702Z",
     "iopub.status.idle": "2023-12-11T12:03:45.090038Z",
     "shell.execute_reply": "2023-12-11T12:03:45.089561Z"
    }
   },
   "outputs": [
    {
     "name": "stderr",
     "output_type": "stream",
     "text": [
      "INFO[2023-12-11 13:03:44,861]: Unable to initialize backend 'cuda': module 'jaxlib.xla_extension' has no attribute 'GpuAllocatorConfig'\n",
      "INFO[2023-12-11 13:03:44,862]: Unable to initialize backend 'rocm': module 'jaxlib.xla_extension' has no attribute 'GpuAllocatorConfig'\n",
      "INFO[2023-12-11 13:03:44,863]: Unable to initialize backend 'tpu': INTERNAL: Failed to open libtpu.so: libtpu.so: cannot open shared object file: No such file or directory\n",
      "WARNING[2023-12-11 13:03:44,864]: An NVIDIA GPU may be present on this machine, but a CUDA-enabled jaxlib is not installed. Falling back to cpu.\n"
     ]
    }
   ],
   "source": [
    "\n",
    "import numpy as np\n",
    "import pylab as plt\n",
    "import tensorflow_probability.substrates.jax as tfp\n",
    "from jax import random, numpy as jnp\n",
    "\n",
    "from jaxns import resample\n",
    "\n",
    "tfpd = tfp.distributions"
   ]
  },
  {
   "cell_type": "code",
   "execution_count": 2,
   "metadata": {
    "execution": {
     "iopub.execute_input": "2023-12-11T12:03:45.092108Z",
     "iopub.status.busy": "2023-12-11T12:03:45.091907Z",
     "iopub.status.idle": "2023-12-11T12:03:45.095556Z",
     "shell.execute_reply": "2023-12-11T12:03:45.095006Z"
    }
   },
   "outputs": [
    {
     "name": "stdout",
     "output_type": "stream",
     "text": [
      "Taking 10 samples from a Poisson distribution as data.\n"
     ]
    }
   ],
   "source": [
    "# Generate data\n",
    "np.random.seed(42)\n",
    "\n",
    "num_samples = 10\n",
    "\n",
    "true_k = 0.5\n",
    "true_theta = 1.\n",
    "_gamma = np.random.gamma(true_k, true_theta, size=num_samples)\n",
    "print(f\"Taking {num_samples} samples from a Poisson distribution as data.\")\n",
    "data = jnp.asarray(np.random.poisson(_gamma, size=num_samples))"
   ]
  },
  {
   "cell_type": "code",
   "execution_count": 3,
   "metadata": {
    "execution": {
     "iopub.execute_input": "2023-12-11T12:03:45.097251Z",
     "iopub.status.busy": "2023-12-11T12:03:45.097112Z",
     "iopub.status.idle": "2023-12-11T12:03:47.767995Z",
     "shell.execute_reply": "2023-12-11T12:03:47.767462Z"
    }
   },
   "outputs": [
    {
     "name": "stderr",
     "output_type": "stream",
     "text": [
      "INFO[2023-12-11 13:03:47,360]: Sanity check...\n",
      "INFO[2023-12-11 13:03:47,765]: Sanity check passed\n"
     ]
    }
   ],
   "source": [
    "\n",
    "from jaxns import Prior, Model\n",
    "\n",
    "# Build model\n",
    "prior_k = 100.\n",
    "\n",
    "# Note if prior_theta is chosen too large 32-bit will be insufficient\n",
    "prior_theta = 0.1\n",
    "\n",
    "\n",
    "def prior_model():\n",
    "    lamda = yield Prior(\n",
    "        tfpd.Gamma(concentration=prior_k, rate=1. / prior_theta),\n",
    "        name='lamda')\n",
    "    return lamda\n",
    "\n",
    "\n",
    "def log_likelihood(lamda):\n",
    "    \"\"\"\n",
    "    Poisson likelihood.\n",
    "    \"\"\"\n",
    "    _log_prob = jnp.sum(tfpd.Poisson(rate=lamda).log_prob(data))\n",
    "    return _log_prob\n",
    "\n",
    "\n",
    "model = Model(prior_model=prior_model, log_likelihood=log_likelihood)\n",
    "\n",
    "model.sanity_check(random.PRNGKey(0), S=100)"
   ]
  },
  {
   "cell_type": "code",
   "execution_count": 4,
   "metadata": {
    "execution": {
     "iopub.execute_input": "2023-12-11T12:03:47.770217Z",
     "iopub.status.busy": "2023-12-11T12:03:47.770073Z",
     "iopub.status.idle": "2023-12-11T12:03:48.136135Z",
     "shell.execute_reply": "2023-12-11T12:03:48.135610Z"
    }
   },
   "outputs": [
    {
     "name": "stdout",
     "output_type": "stream",
     "text": [
      "True Evidence = -69.31472778320312\n",
      "True posterior concentration (k) = 100.0\n",
      "True posterior rate (1/theta) = 20.0\n",
      "True posterior lamda = 5.0\n"
     ]
    }
   ],
   "source": [
    "# Evidence and posterior are analytic\n",
    "def log_gamma_prob(lamda, k, theta):\n",
    "    return tfpd.Gamma(concentration=k, rate=1. / theta).log_prob(lamda)\n",
    "    # return (k-1) * jnp.log(gamma)  - gamma / theta - gammaln(k) - k * jnp.log(theta)\n",
    "\n",
    "\n",
    "true_post_k = prior_k + jnp.sum(data)\n",
    "true_post_theta = prior_theta / (num_samples * prior_theta + 1.)\n",
    "\n",
    "true_post_mean_gamma = true_post_theta * true_post_k\n",
    "\n",
    "true_logZ = log_likelihood(1.) + log_gamma_prob(1., prior_k, prior_theta) - log_gamma_prob(1., true_post_k,\n",
    "                                                                                           true_post_theta)\n",
    "print(f\"True Evidence = {true_logZ}\")\n",
    "print(f\"True posterior concentration (k) = {true_post_k}\")\n",
    "print(f\"True posterior rate (1/theta) = {1. / true_post_theta}\")\n",
    "print(f\"True posterior lamda = {true_post_mean_gamma}\")\n"
   ]
  },
  {
   "cell_type": "code",
   "execution_count": 5,
   "metadata": {
    "execution": {
     "iopub.execute_input": "2023-12-11T12:03:48.137945Z",
     "iopub.status.busy": "2023-12-11T12:03:48.137797Z",
     "iopub.status.idle": "2023-12-11T12:04:02.667524Z",
     "shell.execute_reply": "2023-12-11T12:04:02.666942Z"
    }
   },
   "outputs": [
    {
     "name": "stderr",
     "output_type": "stream",
     "text": [
      "/home/albert/miniconda3/envs/jaxns_py/lib/python3.11/site-packages/jax/_src/ops/scatter.py:94: FutureWarning: scatter inputs have incompatible types: cannot safely cast value from dtype=float32 to dtype=int32 with jax_numpy_dtype_promotion='standard'. In future JAX releases this will result in an error.\n",
      "  warnings.warn(\"scatter inputs have incompatible types: cannot safely cast \"\n"
     ]
    }
   ],
   "source": [
    "from jaxns import TerminationCondition, DefaultNestedSampler\n",
    "\n",
    "# Run the nested sampling\n",
    "ns = DefaultNestedSampler(model=model, num_live_points=100, max_samples=1e4)\n",
    "\n",
    "term_reason, state = ns(random.PRNGKey(3452345))\n",
    "results = ns.to_results(termination_reason=term_reason, state=state)"
   ]
  },
  {
   "cell_type": "code",
   "execution_count": 6,
   "metadata": {
    "execution": {
     "iopub.execute_input": "2023-12-11T12:04:02.669442Z",
     "iopub.status.busy": "2023-12-11T12:04:02.669296Z",
     "iopub.status.idle": "2023-12-11T12:04:03.295464Z",
     "shell.execute_reply": "2023-12-11T12:04:03.294909Z"
    }
   },
   "outputs": [
    {
     "data": {
      "image/png": "[encoded data removed]",
      "text/plain": [
       "<Figure size 640x480 with 1 Axes>"
      ]
     },
     "metadata": {},
     "output_type": "display_data"
    }
   ],
   "source": [
    "# Comparing samples to true posterior\n",
    "\n",
    "samples = resample(random.PRNGKey(43083245), results.samples, results.log_dp_mean, S=int(results.ESS))\n",
    "\n",
    "plt.hist(samples['lamda'], bins='auto', ec='blue', alpha=0.5, density=True, fc='none')\n",
    "\n",
    "_gamma = np.random.gamma(true_post_k, true_post_theta, size=100000)\n",
    "\n",
    "plt.hist(_gamma, bins='auto', ec='orange', alpha=0.5, density=True, fc='none')\n",
    "plt.show()"
   ]
  }
 ],
 "metadata": {
  "kernelspec": {
   "display_name": "Python 3 (ipykernel)",
   "language": "python",
   "name": "python3"
  },
  "language_info": {
   "codemirror_mode": {
    "name": "ipython",
    "version": 3
   },
   "file_extension": ".py",
   "mimetype": "text/x-python",
   "name": "python",
   "nbconvert_exporter": "python",
   "pygments_lexer": "ipython3",
   "version": "3.11.5"
  }
 },
 "nbformat": 4,
 "nbformat_minor": 1
}
